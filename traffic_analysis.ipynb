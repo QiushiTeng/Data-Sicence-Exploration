{
 "cells": [
  {
   "cell_type": "code",
   "execution_count": 1,
   "metadata": {},
   "outputs": [],
   "source": [
    "from pyspark.sql import SparkSession"
   ]
  },
  {
   "cell_type": "code",
   "execution_count": 2,
   "metadata": {},
   "outputs": [],
   "source": [
    "spark = SparkSession.builder.appName('traffic').getOrCreate()"
   ]
  },
  {
   "cell_type": "code",
   "execution_count": 14,
   "metadata": {},
   "outputs": [],
   "source": [
    "df = spark.read.csv('2018-06.csv', inferSchema=True, header=True)"
   ]
  },
  {
   "cell_type": "code",
   "execution_count": 15,
   "metadata": {},
   "outputs": [
    {
     "name": "stdout",
     "output_type": "stream",
     "text": [
      "+-------------------+----------+-----------+-----+------+---------+-------------+-----+----------+----+------+\n",
      "|          starttime|resolution|detector_id|speed|volume|occupancy|countreadings|delay|traveltime| vht|   vmt|\n",
      "+-------------------+----------+-----------+-----+------+---------+-------------+-----+----------+----+------+\n",
      "|2018-06-01 00:00:00|  01:00:00|     100871|65.49|   217|     1.29|          157|-0.11|      1.17|4.22|276.68|\n",
      "|2018-06-01 00:00:00|  01:00:00|     102151|53.28|   183|     1.41|          154| 0.09|      0.78|2.37|126.27|\n",
      "|2018-06-01 00:00:00|  01:00:00|     100641|62.82|   241|     1.55|          155|-0.07|      1.51|6.08|381.99|\n",
      "|2018-06-01 00:00:00|  01:00:00|     101040|62.92|    27|     0.12|          158|-0.06|      1.16|0.52| 32.81|\n",
      "|2018-06-01 00:00:00|  01:00:00|     101042|63.05|    60|     0.39|          158|-0.08|      1.52|1.52|  95.7|\n",
      "|2018-06-01 00:00:00|  01:00:00|     100645|60.38|   283|      1.5|          155|  0.0|      0.58|2.72|164.14|\n",
      "|2018-06-01 00:00:00|  01:00:00|     100650|61.53|   157|      0.9|          155|-0.02|      0.88| 2.3| 141.3|\n",
      "|2018-06-01 00:00:00|  01:00:00|     102152|56.29|   318|     2.52|          154| 0.05|      0.74| 3.9|219.42|\n",
      "|2018-06-01 00:00:00|  01:00:00|     100646|62.84|   139|     0.64|          155|-0.03|      0.55|1.28| 80.62|\n",
      "|2018-06-01 00:00:00|  01:00:00|     100875| 65.3|   201|     0.71|          157|-0.09|      1.06|3.56|232.16|\n",
      "|2018-06-01 00:00:00|  01:00:00|     100681| 56.0|   253|     1.77|          155|  0.1|      1.53|6.46|361.79|\n",
      "|2018-06-01 00:00:00|  01:00:00|     101281|49.18|   174|     1.47|          155| 0.15|      0.84|2.44|120.06|\n",
      "|2018-06-01 00:00:00|  01:00:00|     100676|51.98|   222|     1.93|          155| 0.04|      0.31|1.15| 59.94|\n",
      "|2018-06-01 00:00:00|  01:00:00|     100649|59.18|   341|     2.47|          155| 0.01|      0.91|5.19| 306.9|\n",
      "|2018-06-01 00:00:00|  01:00:00|     100677|51.14|   349|      3.2|          155| 0.05|      0.32|1.84| 94.23|\n",
      "|2018-06-01 00:00:00|  01:00:00|     101282|46.98|   133|     0.77|          155| 0.19|      0.88|1.95| 91.77|\n",
      "|2018-06-01 00:00:00|  01:00:00|     100874| 63.1|   212|     1.08|          157|-0.06|       1.1|3.88|244.86|\n",
      "|2018-06-01 00:00:00|  01:00:00|     100647|57.43|    64|     0.55|          155| 0.04|      0.94| 1.0|  57.6|\n",
      "|2018-06-01 00:00:00|  01:00:00|     100644|59.11|   243|     1.74|          155| 0.01|      0.59|2.38|140.94|\n",
      "|2018-06-01 00:00:00|  01:00:00|     101041| 59.8|   131|      0.9|          158| 0.01|       1.6|3.49|208.95|\n",
      "+-------------------+----------+-----------+-----+------+---------+-------------+-----+----------+----+------+\n",
      "only showing top 20 rows\n",
      "\n"
     ]
    }
   ],
   "source": [
    "df.show()"
   ]
  },
  {
   "cell_type": "code",
   "execution_count": 5,
   "metadata": {},
   "outputs": [
    {
     "name": "stdout",
     "output_type": "stream",
     "text": [
      "root\n",
      " |-- starttime: timestamp (nullable = true)\n",
      " |-- resolution: string (nullable = true)\n",
      " |-- detector_id: integer (nullable = true)\n",
      " |-- speed: double (nullable = true)\n",
      " |-- volume: integer (nullable = true)\n",
      " |-- occupancy: double (nullable = true)\n",
      " |-- countreadings: integer (nullable = true)\n",
      " |-- delay: double (nullable = true)\n",
      " |-- traveltime: double (nullable = true)\n",
      " |-- vht: double (nullable = true)\n",
      " |-- vmt: double (nullable = true)\n",
      "\n"
     ]
    }
   ],
   "source": [
    "df.printSchema()"
   ]
  },
  {
   "cell_type": "code",
   "execution_count": 16,
   "metadata": {},
   "outputs": [
    {
     "name": "stdout",
     "output_type": "stream",
     "text": [
      "+-----------------+\n",
      "|       avg(speed)|\n",
      "+-----------------+\n",
      "|56.61071740047854|\n",
      "+-----------------+\n",
      "\n"
     ]
    }
   ],
   "source": [
    "df.agg({'speed':'avg'}).show()"
   ]
  },
  {
   "cell_type": "code",
   "execution_count": 17,
   "metadata": {},
   "outputs": [
    {
     "name": "stdout",
     "output_type": "stream",
     "text": [
      "+-----------------+\n",
      "|      avg(volume)|\n",
      "+-----------------+\n",
      "|681.2837812529264|\n",
      "+-----------------+\n",
      "\n"
     ]
    }
   ],
   "source": [
    "df.agg({'volume': 'avg'}).show()"
   ]
  },
  {
   "cell_type": "code",
   "execution_count": 18,
   "metadata": {},
   "outputs": [
    {
     "name": "stdout",
     "output_type": "stream",
     "text": [
      "+-----------+\n",
      "|sum(volume)|\n",
      "+-----------+\n",
      "|   14550859|\n",
      "+-----------+\n",
      "\n"
     ]
    }
   ],
   "source": [
    "df.agg({'volume':'sum'}).show()"
   ]
  },
  {
   "cell_type": "code",
   "execution_count": 10,
   "metadata": {},
   "outputs": [],
   "source": [
    "from pyspark.sql.functions import mean"
   ]
  },
  {
   "cell_type": "code",
   "execution_count": 11,
   "metadata": {},
   "outputs": [],
   "source": [
    "mean_val = df.select(mean(df['volume'])).collect()"
   ]
  },
  {
   "cell_type": "code",
   "execution_count": 12,
   "metadata": {},
   "outputs": [
    {
     "data": {
      "text/plain": [
       "[Row(avg(volume)=681.2837812529264)]"
      ]
     },
     "execution_count": 12,
     "metadata": {},
     "output_type": "execute_result"
    }
   ],
   "source": [
    "mean_val"
   ]
  },
  {
   "cell_type": "code",
   "execution_count": 13,
   "metadata": {},
   "outputs": [],
   "source": [
    "mean_volume = mean_val[0][0]"
   ]
  },
  {
   "cell_type": "code",
   "execution_count": 14,
   "metadata": {},
   "outputs": [
    {
     "data": {
      "text/plain": [
       "681.2837812529264"
      ]
     },
     "execution_count": 14,
     "metadata": {},
     "output_type": "execute_result"
    }
   ],
   "source": [
    "mean_volume"
   ]
  },
  {
   "cell_type": "code",
   "execution_count": 15,
   "metadata": {},
   "outputs": [],
   "source": [
    "new_table = df.na.fill(mean_volume, ['volume'])"
   ]
  },
  {
   "cell_type": "code",
   "execution_count": 16,
   "metadata": {},
   "outputs": [
    {
     "name": "stdout",
     "output_type": "stream",
     "text": [
      "+-----------------+\n",
      "|      avg(volume)|\n",
      "+-----------------+\n",
      "|681.2837812529264|\n",
      "+-----------------+\n",
      "\n"
     ]
    }
   ],
   "source": [
    "new_table.agg({'volume': 'avg'}).show()"
   ]
  },
  {
   "cell_type": "code",
   "execution_count": 17,
   "metadata": {},
   "outputs": [
    {
     "name": "stdout",
     "output_type": "stream",
     "text": [
      "+-----------+\n",
      "|sum(volume)|\n",
      "+-----------+\n",
      "|   14550859|\n",
      "+-----------+\n",
      "\n"
     ]
    }
   ],
   "source": [
    "new_table.agg({'volume': 'sum'}).show()"
   ]
  },
  {
   "cell_type": "code",
   "execution_count": 238,
   "metadata": {},
   "outputs": [],
   "source": [
    "table170611 = df.filter(df['starttime'].contains('2017-06-11'))"
   ]
  },
  {
   "cell_type": "code",
   "execution_count": 239,
   "metadata": {},
   "outputs": [
    {
     "name": "stdout",
     "output_type": "stream",
     "text": [
      "+------------------+\n",
      "|        avg(speed)|\n",
      "+------------------+\n",
      "|60.323017241379226|\n",
      "+------------------+\n",
      "\n"
     ]
    }
   ],
   "source": [
    "table170611.agg({'speed': 'avg'}).show()"
   ]
  },
  {
   "cell_type": "code",
   "execution_count": 240,
   "metadata": {},
   "outputs": [
    {
     "name": "stdout",
     "output_type": "stream",
     "text": [
      "+-----------------+\n",
      "|      avg(volume)|\n",
      "+-----------------+\n",
      "|631.5316091954023|\n",
      "+-----------------+\n",
      "\n"
     ]
    }
   ],
   "source": [
    "table170611.agg({'volume': 'avg'}).show()"
   ]
  },
  {
   "cell_type": "code",
   "execution_count": 242,
   "metadata": {},
   "outputs": [
    {
     "name": "stdout",
     "output_type": "stream",
     "text": [
      "+-----------+\n",
      "|sum(volume)|\n",
      "+-----------+\n",
      "|     439546|\n",
      "+-----------+\n",
      "\n"
     ]
    }
   ],
   "source": [
    "table170611.agg({'volume': 'sum'}).show()"
   ]
  },
  {
   "cell_type": "code",
   "execution_count": null,
   "metadata": {},
   "outputs": [],
   "source": []
  }
 ],
 "metadata": {
  "kernelspec": {
   "display_name": "Python 3",
   "language": "python",
   "name": "python3"
  },
  "language_info": {
   "codemirror_mode": {
    "name": "ipython",
    "version": 3
   },
   "file_extension": ".py",
   "mimetype": "text/x-python",
   "name": "python",
   "nbconvert_exporter": "python",
   "pygments_lexer": "ipython3",
   "version": "3.8.2"
  }
 },
 "nbformat": 4,
 "nbformat_minor": 4
}
